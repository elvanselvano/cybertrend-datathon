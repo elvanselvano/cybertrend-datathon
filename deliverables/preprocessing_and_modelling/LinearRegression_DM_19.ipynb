{
  "nbformat": 4,
  "nbformat_minor": 0,
  "metadata": {
    "colab": {
      "name": "rata-rata-lama-menginap-turis-pre.ipynb",
      "provenance": [],
      "collapsed_sections": []
    },
    "kernelspec": {
      "name": "python3",
      "display_name": "Python 3"
    },
    "language_info": {
      "name": "python"
    }
  },
  "cells": [
    {
      "cell_type": "code",
      "metadata": {
        "id": "GfTkCRyhtS98"
      },
      "source": [
        "import pandas as pd\n",
        "import os, re"
      ],
      "execution_count": 1,
      "outputs": []
    },
    {
      "cell_type": "code",
      "metadata": {
        "id": "qPuoZTD9uCza"
      },
      "source": [
        "files = [i for i in os.listdir('.') if re.match('.*\\.xlsx', i) is not None]"
      ],
      "execution_count": 5,
      "outputs": []
    },
    {
      "cell_type": "code",
      "metadata": {
        "id": "4QpiCOUiuMEP"
      },
      "source": [
        "def process(file):\n",
        "  df = pd.read_excel(file, skiprows=2)\n",
        "  df = df.dropna()\n",
        "  df = df.T\n",
        "  df = df.reset_index()\n",
        "  col = df.iloc[0].copy()\n",
        "  df = df.iloc[1:].copy()\n",
        "  df.columns = col\n",
        "  is_domestic = df[df.columns[0]].astype(str).str.endswith('.1')\n",
        "  tourist_dict = {True: 'Mancanegara', False:'Domestik'}\n",
        "  df['Turis'] = is_domestic.map(tourist_dict)\n",
        "  df['rata-rata lama menginap (Hari)'] = df.loc[:,'Januari':'Desember'].astype(int).mean(axis=1, numeric_only=True)\n",
        "  df = df.rename(columns={df.columns[0]: 'Tahun'})\n",
        "  df['Tahun'] = df['Tahun'].astype(str).str.replace('.1', '', regex=False)\n",
        "  return df[['Tahun', 'Turis', 'rata-rata lama menginap (Hari)']]"
      ],
      "execution_count": 146,
      "outputs": []
    },
    {
      "cell_type": "code",
      "metadata": {
        "colab": {
          "base_uri": "https://localhost:8080/",
          "height": 545
        },
        "id": "Wo7pwacFvUPb",
        "outputId": "e7238276-ffd6-4837-c9c1-930ba88e57b7"
      },
      "source": [
        "dfs = [process(i) for i in files]\n",
        "df = pd.concat(dfs).sort_values('Tahun')\n",
        "df"
      ],
      "execution_count": 147,
      "outputs": [
        {
          "output_type": "execute_result",
          "data": {
            "text/html": [
              "<div>\n",
              "<style scoped>\n",
              "    .dataframe tbody tr th:only-of-type {\n",
              "        vertical-align: middle;\n",
              "    }\n",
              "\n",
              "    .dataframe tbody tr th {\n",
              "        vertical-align: top;\n",
              "    }\n",
              "\n",
              "    .dataframe thead th {\n",
              "        text-align: right;\n",
              "    }\n",
              "</style>\n",
              "<table border=\"1\" class=\"dataframe\">\n",
              "  <thead>\n",
              "    <tr style=\"text-align: right;\">\n",
              "      <th></th>\n",
              "      <th>Tahun</th>\n",
              "      <th>Turis</th>\n",
              "      <th>rata-rata lama menginap (Hari)</th>\n",
              "    </tr>\n",
              "  </thead>\n",
              "  <tbody>\n",
              "    <tr>\n",
              "      <th>1</th>\n",
              "      <td>2012</td>\n",
              "      <td>Domestik</td>\n",
              "      <td>1.250000</td>\n",
              "    </tr>\n",
              "    <tr>\n",
              "      <th>3</th>\n",
              "      <td>2012</td>\n",
              "      <td>Mancanegara</td>\n",
              "      <td>1.000000</td>\n",
              "    </tr>\n",
              "    <tr>\n",
              "      <th>2</th>\n",
              "      <td>2013</td>\n",
              "      <td>Domestik</td>\n",
              "      <td>1.250000</td>\n",
              "    </tr>\n",
              "    <tr>\n",
              "      <th>4</th>\n",
              "      <td>2013</td>\n",
              "      <td>Mancanegara</td>\n",
              "      <td>1.000000</td>\n",
              "    </tr>\n",
              "    <tr>\n",
              "      <th>1</th>\n",
              "      <td>2014</td>\n",
              "      <td>Domestik</td>\n",
              "      <td>1.500000</td>\n",
              "    </tr>\n",
              "    <tr>\n",
              "      <th>4</th>\n",
              "      <td>2014</td>\n",
              "      <td>Mancanegara</td>\n",
              "      <td>1.000000</td>\n",
              "    </tr>\n",
              "    <tr>\n",
              "      <th>2</th>\n",
              "      <td>2015</td>\n",
              "      <td>Domestik</td>\n",
              "      <td>1.416667</td>\n",
              "    </tr>\n",
              "    <tr>\n",
              "      <th>5</th>\n",
              "      <td>2015</td>\n",
              "      <td>Mancanegara</td>\n",
              "      <td>1.000000</td>\n",
              "    </tr>\n",
              "    <tr>\n",
              "      <th>3</th>\n",
              "      <td>2016</td>\n",
              "      <td>Domestik</td>\n",
              "      <td>1.166667</td>\n",
              "    </tr>\n",
              "    <tr>\n",
              "      <th>6</th>\n",
              "      <td>2016</td>\n",
              "      <td>Mancanegara</td>\n",
              "      <td>1.000000</td>\n",
              "    </tr>\n",
              "    <tr>\n",
              "      <th>1</th>\n",
              "      <td>2018</td>\n",
              "      <td>Domestik</td>\n",
              "      <td>2.416667</td>\n",
              "    </tr>\n",
              "    <tr>\n",
              "      <th>4</th>\n",
              "      <td>2018</td>\n",
              "      <td>Mancanegara</td>\n",
              "      <td>1.416667</td>\n",
              "    </tr>\n",
              "    <tr>\n",
              "      <th>2</th>\n",
              "      <td>2019</td>\n",
              "      <td>Domestik</td>\n",
              "      <td>2.166667</td>\n",
              "    </tr>\n",
              "    <tr>\n",
              "      <th>5</th>\n",
              "      <td>2019</td>\n",
              "      <td>Mancanegara</td>\n",
              "      <td>1.583333</td>\n",
              "    </tr>\n",
              "    <tr>\n",
              "      <th>3</th>\n",
              "      <td>2020</td>\n",
              "      <td>Domestik</td>\n",
              "      <td>3.666667</td>\n",
              "    </tr>\n",
              "    <tr>\n",
              "      <th>6</th>\n",
              "      <td>2020</td>\n",
              "      <td>Mancanegara</td>\n",
              "      <td>1.666667</td>\n",
              "    </tr>\n",
              "  </tbody>\n",
              "</table>\n",
              "</div>"
            ],
            "text/plain": [
              "0 Tahun        Turis  rata-rata lama menginap (Hari)\n",
              "1  2012     Domestik                        1.250000\n",
              "3  2012  Mancanegara                        1.000000\n",
              "2  2013     Domestik                        1.250000\n",
              "4  2013  Mancanegara                        1.000000\n",
              "1  2014     Domestik                        1.500000\n",
              "4  2014  Mancanegara                        1.000000\n",
              "2  2015     Domestik                        1.416667\n",
              "5  2015  Mancanegara                        1.000000\n",
              "3  2016     Domestik                        1.166667\n",
              "6  2016  Mancanegara                        1.000000\n",
              "1  2018     Domestik                        2.416667\n",
              "4  2018  Mancanegara                        1.416667\n",
              "2  2019     Domestik                        2.166667\n",
              "5  2019  Mancanegara                        1.583333\n",
              "3  2020     Domestik                        3.666667\n",
              "6  2020  Mancanegara                        1.666667"
            ]
          },
          "metadata": {},
          "execution_count": 147
        }
      ]
    },
    {
      "cell_type": "code",
      "metadata": {
        "id": "CJSQnXUhvVf-"
      },
      "source": [
        "df.to_csv('rata-rata-lama-menginap-turis-tahunan.csv', index=False)"
      ],
      "execution_count": 149,
      "outputs": []
    }
  ]
}