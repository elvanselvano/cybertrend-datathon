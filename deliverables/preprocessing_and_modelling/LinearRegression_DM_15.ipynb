{
  "nbformat": 4,
  "nbformat_minor": 0,
  "metadata": {
    "colab": {
      "name": "preprocess devisa.ipynb",
      "provenance": [],
      "collapsed_sections": []
    },
    "kernelspec": {
      "name": "python3",
      "display_name": "Python 3"
    },
    "language_info": {
      "name": "python"
    }
  },
  "cells": [
    {
      "cell_type": "code",
      "metadata": {
        "id": "Vq4kBm6BVgU_"
      },
      "source": [
        "import pandas as pd"
      ],
      "execution_count": 1,
      "outputs": []
    },
    {
      "cell_type": "code",
      "metadata": {
        "id": "C9dlaHU-Vzpu"
      },
      "source": [
        "paths = [\n",
        "         '/content/Jumlah Devisa Sektor Pariwisata 2015.xlsx',\n",
        "         '/content/Jumlah Devisa Sektor Pariwisata 2018.xlsx'\n",
        "]\n",
        "dfs = [pd.read_excel(i, skiprows=1).dropna().iloc[:,1:].T for i in paths]"
      ],
      "execution_count": 8,
      "outputs": []
    },
    {
      "cell_type": "code",
      "metadata": {
        "id": "i5tqj_vwWyRp"
      },
      "source": [
        "df = pd.concat(dfs)\n",
        "df.columns = ['Devisa ($ miliar)']"
      ],
      "execution_count": 15,
      "outputs": []
    },
    {
      "cell_type": "markdown",
      "metadata": {
        "id": "Hx3omBpSXfnC"
      },
      "source": [
        "[sumber data: Kompas, Menparekraf Sandiaga Sebut Devisa Sektor Pariwisata Menurun](https://travel.kompas.com/read/2021/08/19/153200127/menparekraf-sandiaga-sebut-devisa-sektor-pariwisata-menurun?page=all)"
      ]
    },
    {
      "cell_type": "code",
      "metadata": {
        "id": "LaTnOmx1XDl7"
      },
      "source": [
        "df.loc[2019] = 16.9\n",
        "df.loc[2020] = 3.2"
      ],
      "execution_count": 16,
      "outputs": []
    },
    {
      "cell_type": "code",
      "metadata": {
        "colab": {
          "base_uri": "https://localhost:8080/",
          "height": 235
        },
        "id": "Y0I3-REZW0pO",
        "outputId": "406f5aa1-a1ff-4499-e0a9-98d62241c487"
      },
      "source": [
        "df"
      ],
      "execution_count": 17,
      "outputs": [
        {
          "output_type": "execute_result",
          "data": {
            "text/html": [
              "<div>\n",
              "<style scoped>\n",
              "    .dataframe tbody tr th:only-of-type {\n",
              "        vertical-align: middle;\n",
              "    }\n",
              "\n",
              "    .dataframe tbody tr th {\n",
              "        vertical-align: top;\n",
              "    }\n",
              "\n",
              "    .dataframe thead th {\n",
              "        text-align: right;\n",
              "    }\n",
              "</style>\n",
              "<table border=\"1\" class=\"dataframe\">\n",
              "  <thead>\n",
              "    <tr style=\"text-align: right;\">\n",
              "      <th></th>\n",
              "      <th>Devisa ($ miliar)</th>\n",
              "    </tr>\n",
              "  </thead>\n",
              "  <tbody>\n",
              "    <tr>\n",
              "      <th>2015</th>\n",
              "      <td>10.761</td>\n",
              "    </tr>\n",
              "    <tr>\n",
              "      <th>2016</th>\n",
              "      <td>11.206</td>\n",
              "    </tr>\n",
              "    <tr>\n",
              "      <th>2017</th>\n",
              "      <td>13.139</td>\n",
              "    </tr>\n",
              "    <tr>\n",
              "      <th>2018</th>\n",
              "      <td>16.426</td>\n",
              "    </tr>\n",
              "    <tr>\n",
              "      <th>2019</th>\n",
              "      <td>16.900</td>\n",
              "    </tr>\n",
              "    <tr>\n",
              "      <th>2020</th>\n",
              "      <td>3.200</td>\n",
              "    </tr>\n",
              "  </tbody>\n",
              "</table>\n",
              "</div>"
            ],
            "text/plain": [
              "      Devisa ($ miliar)\n",
              "2015             10.761\n",
              "2016             11.206\n",
              "2017             13.139\n",
              "2018             16.426\n",
              "2019             16.900\n",
              "2020              3.200"
            ]
          },
          "metadata": {},
          "execution_count": 17
        }
      ]
    },
    {
      "cell_type": "code",
      "metadata": {
        "id": "t1lz0yIYXCoe"
      },
      "source": [
        "df.to_csv('devisa_concatenated.csv')"
      ],
      "execution_count": 19,
      "outputs": []
    },
    {
      "cell_type": "code",
      "metadata": {
        "id": "dmbBzGGQYBkv"
      },
      "source": [
        ""
      ],
      "execution_count": null,
      "outputs": []
    }
  ]
}