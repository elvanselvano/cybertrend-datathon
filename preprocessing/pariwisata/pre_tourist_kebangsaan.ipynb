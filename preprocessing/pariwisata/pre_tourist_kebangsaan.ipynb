{
  "nbformat": 4,
  "nbformat_minor": 0,
  "metadata": {
    "colab": {
      "name": "pre_tourist_kebangsaan.ipynb",
      "provenance": [],
      "collapsed_sections": []
    },
    "kernelspec": {
      "name": "python3",
      "display_name": "Python 3"
    },
    "language_info": {
      "name": "python"
    }
  },
  "cells": [
    {
      "cell_type": "code",
      "metadata": {
        "id": "HEIWAyoXP6W3"
      },
      "source": [
        "import pandas as pd"
      ],
      "execution_count": 1,
      "outputs": []
    },
    {
      "cell_type": "code",
      "metadata": {
        "id": "owJIBdyyc-6K"
      },
      "source": [
        "base_path = '/content/Kunjungan Wisatawan Mancanegara per bulan Menurut Kebangsaan '\n",
        "years = [2017, 2018, 2019, 2020, 2021]"
      ],
      "execution_count": 69,
      "outputs": []
    },
    {
      "cell_type": "code",
      "metadata": {
        "id": "yd78FLVEP8rx"
      },
      "source": [
        "def process(path, year):\n",
        "  df = pd.read_excel(path, skiprows=2)\n",
        "  df.dropna(inplace=True)\n",
        "  df = df.replace({'-':pd.NA})\n",
        "  col = df.columns.to_list()\n",
        "  col[0] = 'Kebangsaan'\n",
        "  df.columns = col\n",
        "  cond = df['Kebangsaan'].str.match(r'(TOTAL)|(A S E A N).*')\n",
        "  df = df[cond]\n",
        "  df.dropna(axis=1, inplace=True)\n",
        "  df['Tahunan'] = df.iloc[:,1:-1].astype(int).sum(axis=1, skipna=True)\n",
        "  df['Tahun'] = year\n",
        "  return df[['Tahun', 'Kebangsaan', 'Tahunan']]"
      ],
      "execution_count": 147,
      "outputs": []
    },
    {
      "cell_type": "code",
      "metadata": {
        "id": "oKeYVUwRQptQ"
      },
      "source": [
        "dfs = [process(f'{base_path}{i}.xlsx', i) for i in years]"
      ],
      "execution_count": 148,
      "outputs": []
    },
    {
      "cell_type": "code",
      "metadata": {
        "id": "9fCCt6Evd9g_"
      },
      "source": [
        "pd.concat(dfs).to_csv('tourist_kebangsaan_concat.csv')"
      ],
      "execution_count": 151,
      "outputs": []
    },
    {
      "cell_type": "code",
      "metadata": {
        "id": "36ya-5mAhbZT"
      },
      "source": [
        ""
      ],
      "execution_count": null,
      "outputs": []
    }
  ]
}