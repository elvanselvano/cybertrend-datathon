{
  "nbformat": 4,
  "nbformat_minor": 0,
  "metadata": {
    "colab": {
      "name": "gate_pre.ipynb",
      "provenance": [],
      "collapsed_sections": []
    },
    "kernelspec": {
      "name": "python3",
      "display_name": "Python 3"
    },
    "language_info": {
      "name": "python"
    }
  },
  "cells": [
    {
      "cell_type": "code",
      "metadata": {
        "id": "EisQmw60phMj"
      },
      "source": [
        "import pandas as pd\n",
        "import os, re"
      ],
      "execution_count": null,
      "outputs": []
    },
    {
      "cell_type": "code",
      "metadata": {
        "colab": {
          "base_uri": "https://localhost:8080/"
        },
        "id": "tUH6Sbg59OyQ",
        "outputId": "e3ac852a-6989-41b5-ae7a-4aa8f30e3577"
      },
      "source": [
        "files = [i for i in os.listdir('./') if re.match('Jumlah', i) is not None]\n",
        "years = [re.findall('\\d+', i)[0] for i in files]\n",
        "files"
      ],
      "execution_count": null,
      "outputs": [
        {
          "output_type": "execute_result",
          "data": {
            "text/plain": [
              "['Jumlah Kunjungan Wisatawan Mancanegara per bulan ke Indonesia Menurut Pintu Masuk, 2020.xlsx',\n",
              " 'Jumlah Kunjungan Wisatawan Mancanegara per bulan ke Indonesia Menurut Pintu Masuk, 2019.xlsx',\n",
              " 'Jumlah Kunjungan Wisatawan Mancanegara per bulan ke Indonesia Menurut Pintu Masuk, 2021.xlsx',\n",
              " 'Jumlah Kunjungan Wisatawan Mancanegara per bulan ke Indonesia Menurut Pintu Masuk, 2018.xlsx',\n",
              " 'Jumlah Kunjungan Wisatawan Mancanegara per bulan ke Indonesia Menurut Pintu Masuk, 2017.xlsx']"
            ]
          },
          "metadata": {},
          "execution_count": 37
        }
      ]
    },
    {
      "cell_type": "code",
      "metadata": {
        "id": "RpzxiYKc9vfy"
      },
      "source": [
        "def process(path, year):\n",
        "  df = pd.read_excel(path, skiprows=2)\n",
        "  df.dropna(inplace=True)\n",
        "  col = df.columns.to_list()\n",
        "  col[0] = 'Pintu'\n",
        "  df.columns = col\n",
        "  cond = df['Pintu'].str.match('([ABC]\\.)|(Jumlah)')\n",
        "  df = df[cond]\n",
        "  df = df.replace({'-':pd.NA})\n",
        "  df.dropna(axis=1, inplace=True)\n",
        "  df['Tahunan'] = df.iloc[:,1:].astype(int).sum(axis=1, numeric_only=True, skipna=True)\n",
        "  df['Tahun'] = year\n",
        "  return df[['Pintu', 'Tahunan', 'Tahun']]"
      ],
      "execution_count": 67,
      "outputs": []
    },
    {
      "cell_type": "code",
      "metadata": {
        "id": "aXVDMp9F-ugl"
      },
      "source": [
        "dfs = [process(i, j) for i, j in zip(files, years)]"
      ],
      "execution_count": 68,
      "outputs": []
    },
    {
      "cell_type": "code",
      "metadata": {
        "id": "QK8XL3P2BTJy",
        "colab": {
          "base_uri": "https://localhost:8080/",
          "height": 669
        },
        "outputId": "8596f6a4-e1f7-4d27-9dce-b25b0e15981f"
      },
      "source": [
        "df = pd.concat(dfs)\n",
        "df"
      ],
      "execution_count": 69,
      "outputs": [
        {
          "output_type": "execute_result",
          "data": {
            "text/html": [
              "<div>\n",
              "<style scoped>\n",
              "    .dataframe tbody tr th:only-of-type {\n",
              "        vertical-align: middle;\n",
              "    }\n",
              "\n",
              "    .dataframe tbody tr th {\n",
              "        vertical-align: top;\n",
              "    }\n",
              "\n",
              "    .dataframe thead th {\n",
              "        text-align: right;\n",
              "    }\n",
              "</style>\n",
              "<table border=\"1\" class=\"dataframe\">\n",
              "  <thead>\n",
              "    <tr style=\"text-align: right;\">\n",
              "      <th></th>\n",
              "      <th>Pintu</th>\n",
              "      <th>Tahunan</th>\n",
              "      <th>Tahun</th>\n",
              "    </tr>\n",
              "  </thead>\n",
              "  <tbody>\n",
              "    <tr>\n",
              "      <th>0</th>\n",
              "      <td>A. Pintu Udara</td>\n",
              "      <td>3427144</td>\n",
              "      <td>2020</td>\n",
              "    </tr>\n",
              "    <tr>\n",
              "      <th>17</th>\n",
              "      <td>B. Pintu Laut</td>\n",
              "      <td>2049202</td>\n",
              "      <td>2020</td>\n",
              "    </tr>\n",
              "    <tr>\n",
              "      <th>25</th>\n",
              "      <td>C. Pintu Darat</td>\n",
              "      <td>2629500</td>\n",
              "      <td>2020</td>\n",
              "    </tr>\n",
              "    <tr>\n",
              "      <th>32</th>\n",
              "      <td>Jumlah (A+B+C)</td>\n",
              "      <td>8105846</td>\n",
              "      <td>2020</td>\n",
              "    </tr>\n",
              "    <tr>\n",
              "      <th>0</th>\n",
              "      <td>A. Pintu Udara</td>\n",
              "      <td>9834706</td>\n",
              "      <td>2019</td>\n",
              "    </tr>\n",
              "    <tr>\n",
              "      <th>17</th>\n",
              "      <td>B. Pintu Laut</td>\n",
              "      <td>4160632</td>\n",
              "      <td>2019</td>\n",
              "    </tr>\n",
              "    <tr>\n",
              "      <th>25</th>\n",
              "      <td>C. Pintu Darat</td>\n",
              "      <td>2111616</td>\n",
              "      <td>2019</td>\n",
              "    </tr>\n",
              "    <tr>\n",
              "      <th>32</th>\n",
              "      <td>Jumlah (A+B+C)</td>\n",
              "      <td>16106954</td>\n",
              "      <td>2019</td>\n",
              "    </tr>\n",
              "    <tr>\n",
              "      <th>0</th>\n",
              "      <td>A. Pintu Udara</td>\n",
              "      <td>79077</td>\n",
              "      <td>2021</td>\n",
              "    </tr>\n",
              "    <tr>\n",
              "      <th>17</th>\n",
              "      <td>B. Pintu Laut</td>\n",
              "      <td>301341</td>\n",
              "      <td>2021</td>\n",
              "    </tr>\n",
              "    <tr>\n",
              "      <th>25</th>\n",
              "      <td>C. Pintu Darat</td>\n",
              "      <td>681114</td>\n",
              "      <td>2021</td>\n",
              "    </tr>\n",
              "    <tr>\n",
              "      <th>32</th>\n",
              "      <td>Jumlah (A+B+C)</td>\n",
              "      <td>1061532</td>\n",
              "      <td>2021</td>\n",
              "    </tr>\n",
              "    <tr>\n",
              "      <th>0</th>\n",
              "      <td>A. Pintu Udara</td>\n",
              "      <td>10088781</td>\n",
              "      <td>2018</td>\n",
              "    </tr>\n",
              "    <tr>\n",
              "      <th>17</th>\n",
              "      <td>B. Pintu Laut</td>\n",
              "      <td>3214420</td>\n",
              "      <td>2018</td>\n",
              "    </tr>\n",
              "    <tr>\n",
              "      <th>25</th>\n",
              "      <td>C. Pintu Darat</td>\n",
              "      <td>2507104</td>\n",
              "      <td>2018</td>\n",
              "    </tr>\n",
              "    <tr>\n",
              "      <th>32</th>\n",
              "      <td>Jumlah (A+B+C)</td>\n",
              "      <td>15810305</td>\n",
              "      <td>2018</td>\n",
              "    </tr>\n",
              "    <tr>\n",
              "      <th>0</th>\n",
              "      <td>A. Pintu Udara</td>\n",
              "      <td>9670655</td>\n",
              "      <td>2017</td>\n",
              "    </tr>\n",
              "    <tr>\n",
              "      <th>17</th>\n",
              "      <td>B. Pintu Laut</td>\n",
              "      <td>2782655</td>\n",
              "      <td>2017</td>\n",
              "    </tr>\n",
              "    <tr>\n",
              "      <th>25</th>\n",
              "      <td>C. Pintu Darat</td>\n",
              "      <td>1586489</td>\n",
              "      <td>2017</td>\n",
              "    </tr>\n",
              "    <tr>\n",
              "      <th>32</th>\n",
              "      <td>Jumlah (A+B+C)</td>\n",
              "      <td>14039799</td>\n",
              "      <td>2017</td>\n",
              "    </tr>\n",
              "  </tbody>\n",
              "</table>\n",
              "</div>"
            ],
            "text/plain": [
              "             Pintu   Tahunan Tahun\n",
              "0   A. Pintu Udara   3427144  2020\n",
              "17   B. Pintu Laut   2049202  2020\n",
              "25  C. Pintu Darat   2629500  2020\n",
              "32  Jumlah (A+B+C)   8105846  2020\n",
              "0   A. Pintu Udara   9834706  2019\n",
              "17   B. Pintu Laut   4160632  2019\n",
              "25  C. Pintu Darat   2111616  2019\n",
              "32  Jumlah (A+B+C)  16106954  2019\n",
              "0   A. Pintu Udara     79077  2021\n",
              "17   B. Pintu Laut    301341  2021\n",
              "25  C. Pintu Darat    681114  2021\n",
              "32  Jumlah (A+B+C)   1061532  2021\n",
              "0   A. Pintu Udara  10088781  2018\n",
              "17   B. Pintu Laut   3214420  2018\n",
              "25  C. Pintu Darat   2507104  2018\n",
              "32  Jumlah (A+B+C)  15810305  2018\n",
              "0   A. Pintu Udara   9670655  2017\n",
              "17   B. Pintu Laut   2782655  2017\n",
              "25  C. Pintu Darat   1586489  2017\n",
              "32  Jumlah (A+B+C)  14039799  2017"
            ]
          },
          "metadata": {},
          "execution_count": 69
        }
      ]
    },
    {
      "cell_type": "code",
      "metadata": {
        "id": "zViEKkQNBawW"
      },
      "source": [
        "df.to_csv('gate_num_of_tourist.csv', index=False)"
      ],
      "execution_count": 70,
      "outputs": []
    },
    {
      "cell_type": "code",
      "metadata": {
        "id": "2nNO6DqeEorE"
      },
      "source": [
        ""
      ],
      "execution_count": null,
      "outputs": []
    }
  ]
}