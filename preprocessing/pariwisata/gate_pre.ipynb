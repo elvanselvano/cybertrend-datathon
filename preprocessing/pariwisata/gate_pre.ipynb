{
  "nbformat": 4,
  "nbformat_minor": 0,
  "metadata": {
    "colab": {
      "name": "gate_pre.ipynb",
      "provenance": [],
      "collapsed_sections": []
    },
    "kernelspec": {
      "name": "python3",
      "display_name": "Python 3"
    },
    "language_info": {
      "name": "python"
    }
  },
  "cells": [
    {
      "cell_type": "code",
      "metadata": {
        "id": "EisQmw60phMj"
      },
      "source": [
        "import pandas as pd\n",
        "import os, re"
      ],
      "execution_count": 8,
      "outputs": []
    },
    {
      "cell_type": "code",
      "metadata": {
        "colab": {
          "base_uri": "https://localhost:8080/"
        },
        "id": "tUH6Sbg59OyQ",
        "outputId": "49aefcc6-fec1-45b2-b66e-e133cba72c76"
      },
      "source": [
        "files = [i for i in os.listdir('./') if re.match('Jumlah', i) is not None]\n",
        "years = [re.findall('\\d+', i)[0] for i in files]\n",
        "files"
      ],
      "execution_count": 24,
      "outputs": [
        {
          "output_type": "execute_result",
          "data": {
            "text/plain": [
              "['Jumlah Kunjungan Wisatawan Mancanegara per bulan ke Indonesia Menurut Pintu Masuk, 2020.xlsx',\n",
              " 'Jumlah Kunjungan Wisatawan Mancanegara per bulan ke Indonesia Menurut Pintu Masuk, 2019.xlsx',\n",
              " 'Jumlah Kunjungan Wisatawan Mancanegara per bulan ke Indonesia Menurut Pintu Masuk, 2021.xlsx',\n",
              " 'Jumlah Kunjungan Wisatawan Mancanegara per bulan ke Indonesia Menurut Pintu Masuk, 2018.xlsx',\n",
              " 'Jumlah Kunjungan Wisatawan Mancanegara per bulan ke Indonesia Menurut Pintu Masuk, 2017.xlsx']"
            ]
          },
          "metadata": {},
          "execution_count": 24
        }
      ]
    },
    {
      "cell_type": "code",
      "metadata": {
        "id": "RpzxiYKc9vfy"
      },
      "source": [
        "def process(path, year):\n",
        "  df = pd.read_excel(path, skiprows=2)\n",
        "  df.dropna(inplace=True)\n",
        "  col = df.columns.to_list()\n",
        "  col[0] = 'Pintu'\n",
        "  df.columns = col\n",
        "  cond = df['Pintu'].str.match('([ABC]\\.)|(Jumlah)')\n",
        "  df = df[cond]\n",
        "  df = df.replace({'-':pd.NA})\n",
        "  df['Tahunan'] = df.sum(axis=1, skipna=True, numeric_only=True)\n",
        "  df['Tahun'] = year\n",
        "  return df[['Pintu', 'Tahunan', 'Tahun']]"
      ],
      "execution_count": 33,
      "outputs": []
    },
    {
      "cell_type": "code",
      "metadata": {
        "id": "aXVDMp9F-ugl"
      },
      "source": [
        "dfs = [process(i, j) for i, j in zip(files, years)]"
      ],
      "execution_count": 34,
      "outputs": []
    },
    {
      "cell_type": "code",
      "metadata": {
        "id": "QK8XL3P2BTJy"
      },
      "source": [
        "pd.concat(dfs).to_csv('gate_num_of_tourist.csv', index=False)"
      ],
      "execution_count": 35,
      "outputs": []
    },
    {
      "cell_type": "code",
      "metadata": {
        "id": "zViEKkQNBawW"
      },
      "source": [
        ""
      ],
      "execution_count": null,
      "outputs": []
    }
  ]
}