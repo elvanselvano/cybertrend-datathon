{
  "nbformat": 4,
  "nbformat_minor": 0,
  "metadata": {
    "colab": {
      "name": "PenerbanganDKIJakarta",
      "provenance": []
    },
    "kernelspec": {
      "name": "python3",
      "display_name": "Python 3"
    },
    "language_info": {
      "name": "python"
    }
  },
  "cells": [
    {
      "cell_type": "code",
      "metadata": {
        "id": "pLgUtSEjf47s"
      },
      "source": [
        "import pandas as pd\n",
        "import matplotlib.pyplot as plt\n",
        "import seaborn as sns\n",
        "sns.set_palette('bright')"
      ],
      "execution_count": null,
      "outputs": []
    },
    {
      "cell_type": "code",
      "metadata": {
        "id": "AwK6EhgmCGxF"
      },
      "source": [
        "df2020 = pd.read_csv('/content/PenerbanganJKT - 2020.csv')\n",
        "df2021 = pd.read_csv('/content/PenerbanganJKT - 2021.csv')\n",
        "\n",
        "df_2020 = pd.DataFrame({'date': ['1/2020', '2/2020', '3/2020', '4/2020', '5/2020', '6/2020', '7/2020', '8/2020', '9/2020', '10/2020', '11/2020', '12/2020']})\n",
        "df2020['Bulan'] = pd.to_datetime(df_2020['date'])\n",
        "\n",
        "df_2021 = pd.DataFrame({'date': ['1/2021', '2/2021', '3/2021', '4/2021', '5/2021', '6/2021', '7/2021', '8/2021', '9/2021', '10/2021', '11/2021', '12/2021']})\n",
        "df2021['Bulan'] = pd.to_datetime(df_2021['date'])"
      ],
      "execution_count": null,
      "outputs": []
    },
    {
      "cell_type": "code",
      "metadata": {
        "id": "mx5PxA-5aEiZ"
      },
      "source": [
        "df2020.drop(['Unnamed: 0'], axis = 1, inplace=True)\n",
        "df2021.drop(['Unnamed: 0'], axis = 1, inplace=True)"
      ],
      "execution_count": null,
      "outputs": []
    },
    {
      "cell_type": "code",
      "metadata": {
        "colab": {
          "base_uri": "https://localhost:8080/",
          "height": 676
        },
        "id": "PKgeeeoXcxdV",
        "outputId": "b4b37c17-da8f-4f0f-8a24-6e57f0498da6"
      },
      "source": [
        "df_combine = pd.concat([df2020, df2021]).reset_index()\n",
        "df_combine"
      ],
      "execution_count": null,
      "outputs": [
        {
          "output_type": "execute_result",
          "data": {
            "text/html": [
              "<div>\n",
              "<style scoped>\n",
              "    .dataframe tbody tr th:only-of-type {\n",
              "        vertical-align: middle;\n",
              "    }\n",
              "\n",
              "    .dataframe tbody tr th {\n",
              "        vertical-align: top;\n",
              "    }\n",
              "\n",
              "    .dataframe thead th {\n",
              "        text-align: right;\n",
              "    }\n",
              "</style>\n",
              "<table border=\"1\" class=\"dataframe\">\n",
              "  <thead>\n",
              "    <tr style=\"text-align: right;\">\n",
              "      <th></th>\n",
              "      <th>index</th>\n",
              "      <th>Domestik</th>\n",
              "      <th>Internasional</th>\n",
              "      <th>Total</th>\n",
              "      <th>Bulan</th>\n",
              "    </tr>\n",
              "  </thead>\n",
              "  <tbody>\n",
              "    <tr>\n",
              "      <th>0</th>\n",
              "      <td>0</td>\n",
              "      <td>1600594</td>\n",
              "      <td>626097</td>\n",
              "      <td>2226691</td>\n",
              "      <td>2020-01-01</td>\n",
              "    </tr>\n",
              "    <tr>\n",
              "      <th>1</th>\n",
              "      <td>1</td>\n",
              "      <td>1551967</td>\n",
              "      <td>444267</td>\n",
              "      <td>1996234</td>\n",
              "      <td>2020-02-01</td>\n",
              "    </tr>\n",
              "    <tr>\n",
              "      <th>2</th>\n",
              "      <td>2</td>\n",
              "      <td>1211697</td>\n",
              "      <td>187899</td>\n",
              "      <td>1399596</td>\n",
              "      <td>2020-03-01</td>\n",
              "    </tr>\n",
              "    <tr>\n",
              "      <th>3</th>\n",
              "      <td>3</td>\n",
              "      <td>191002</td>\n",
              "      <td>17499</td>\n",
              "      <td>208501</td>\n",
              "      <td>2020-04-01</td>\n",
              "    </tr>\n",
              "    <tr>\n",
              "      <th>4</th>\n",
              "      <td>4</td>\n",
              "      <td>27500</td>\n",
              "      <td>9460</td>\n",
              "      <td>36960</td>\n",
              "      <td>2020-05-01</td>\n",
              "    </tr>\n",
              "    <tr>\n",
              "      <th>5</th>\n",
              "      <td>5</td>\n",
              "      <td>174352</td>\n",
              "      <td>14619</td>\n",
              "      <td>188971</td>\n",
              "      <td>2020-06-01</td>\n",
              "    </tr>\n",
              "    <tr>\n",
              "      <th>6</th>\n",
              "      <td>6</td>\n",
              "      <td>427731</td>\n",
              "      <td>22618</td>\n",
              "      <td>450349</td>\n",
              "      <td>2020-07-01</td>\n",
              "    </tr>\n",
              "    <tr>\n",
              "      <th>7</th>\n",
              "      <td>7</td>\n",
              "      <td>574597</td>\n",
              "      <td>28513</td>\n",
              "      <td>603110</td>\n",
              "      <td>2020-08-01</td>\n",
              "    </tr>\n",
              "    <tr>\n",
              "      <th>8</th>\n",
              "      <td>8</td>\n",
              "      <td>500591</td>\n",
              "      <td>32043</td>\n",
              "      <td>532634</td>\n",
              "      <td>2020-09-01</td>\n",
              "    </tr>\n",
              "    <tr>\n",
              "      <th>9</th>\n",
              "      <td>9</td>\n",
              "      <td>601391</td>\n",
              "      <td>36549</td>\n",
              "      <td>637940</td>\n",
              "      <td>2020-10-01</td>\n",
              "    </tr>\n",
              "    <tr>\n",
              "      <th>10</th>\n",
              "      <td>10</td>\n",
              "      <td>828893</td>\n",
              "      <td>42028</td>\n",
              "      <td>870921</td>\n",
              "      <td>2020-11-01</td>\n",
              "    </tr>\n",
              "    <tr>\n",
              "      <th>11</th>\n",
              "      <td>11</td>\n",
              "      <td>931481</td>\n",
              "      <td>56330</td>\n",
              "      <td>987811</td>\n",
              "      <td>2020-12-01</td>\n",
              "    </tr>\n",
              "    <tr>\n",
              "      <th>12</th>\n",
              "      <td>0</td>\n",
              "      <td>507262</td>\n",
              "      <td>48941</td>\n",
              "      <td>556203</td>\n",
              "      <td>2021-01-01</td>\n",
              "    </tr>\n",
              "    <tr>\n",
              "      <th>13</th>\n",
              "      <td>1</td>\n",
              "      <td>482132</td>\n",
              "      <td>30819</td>\n",
              "      <td>512951</td>\n",
              "      <td>2021-02-01</td>\n",
              "    </tr>\n",
              "    <tr>\n",
              "      <th>14</th>\n",
              "      <td>2</td>\n",
              "      <td>672107</td>\n",
              "      <td>38210</td>\n",
              "      <td>710317</td>\n",
              "      <td>2021-03-01</td>\n",
              "    </tr>\n",
              "    <tr>\n",
              "      <th>15</th>\n",
              "      <td>3</td>\n",
              "      <td>703135</td>\n",
              "      <td>41100</td>\n",
              "      <td>744235</td>\n",
              "      <td>2021-04-01</td>\n",
              "    </tr>\n",
              "    <tr>\n",
              "      <th>16</th>\n",
              "      <td>4</td>\n",
              "      <td>598615</td>\n",
              "      <td>42513</td>\n",
              "      <td>641128</td>\n",
              "      <td>2021-05-01</td>\n",
              "    </tr>\n",
              "    <tr>\n",
              "      <th>17</th>\n",
              "      <td>5</td>\n",
              "      <td>858770</td>\n",
              "      <td>54120</td>\n",
              "      <td>912890</td>\n",
              "      <td>2021-06-01</td>\n",
              "    </tr>\n",
              "    <tr>\n",
              "      <th>18</th>\n",
              "      <td>6</td>\n",
              "      <td>249940</td>\n",
              "      <td>45257</td>\n",
              "      <td>295197</td>\n",
              "      <td>2021-07-01</td>\n",
              "    </tr>\n",
              "    <tr>\n",
              "      <th>19</th>\n",
              "      <td>7</td>\n",
              "      <td>321287</td>\n",
              "      <td>42345</td>\n",
              "      <td>363632</td>\n",
              "      <td>2021-08-01</td>\n",
              "    </tr>\n",
              "  </tbody>\n",
              "</table>\n",
              "</div>"
            ],
            "text/plain": [
              "    index  Domestik  Internasional    Total      Bulan\n",
              "0       0   1600594         626097  2226691 2020-01-01\n",
              "1       1   1551967         444267  1996234 2020-02-01\n",
              "2       2   1211697         187899  1399596 2020-03-01\n",
              "3       3    191002          17499   208501 2020-04-01\n",
              "4       4     27500           9460    36960 2020-05-01\n",
              "5       5    174352          14619   188971 2020-06-01\n",
              "6       6    427731          22618   450349 2020-07-01\n",
              "7       7    574597          28513   603110 2020-08-01\n",
              "8       8    500591          32043   532634 2020-09-01\n",
              "9       9    601391          36549   637940 2020-10-01\n",
              "10     10    828893          42028   870921 2020-11-01\n",
              "11     11    931481          56330   987811 2020-12-01\n",
              "12      0    507262          48941   556203 2021-01-01\n",
              "13      1    482132          30819   512951 2021-02-01\n",
              "14      2    672107          38210   710317 2021-03-01\n",
              "15      3    703135          41100   744235 2021-04-01\n",
              "16      4    598615          42513   641128 2021-05-01\n",
              "17      5    858770          54120   912890 2021-06-01\n",
              "18      6    249940          45257   295197 2021-07-01\n",
              "19      7    321287          42345   363632 2021-08-01"
            ]
          },
          "metadata": {},
          "execution_count": 23
        }
      ]
    },
    {
      "cell_type": "code",
      "metadata": {
        "colab": {
          "base_uri": "https://localhost:8080/",
          "height": 621
        },
        "id": "a_vrJfemeife",
        "outputId": "e8c04f49-4937-4be6-e56a-bad735660d30"
      },
      "source": [
        "plt.figure(figsize=(16, 10))\n",
        "sns.lineplot(data = df_combine, x = 'Bulan', y = 'Domestik', marker = 'o')\n",
        "plt.title('Jumlah Penumpang Domestik di Bandara Soekarno-Hatta')\n",
        "plt.show()"
      ],
      "execution_count": null,
      "outputs": [
        {
          "output_type": "display_data",
          "data": {
            "image/png": "[encoded data removed]",
            "text/plain": [
              "<Figure size 1152x720 with 1 Axes>"
            ]
          },
          "metadata": {
            "needs_background": "light"
          }
        }
      ]
    },
    {
      "cell_type": "code",
      "metadata": {
        "colab": {
          "base_uri": "https://localhost:8080/",
          "height": 621
        },
        "id": "q2lNxeiomKz7",
        "outputId": "5175c37b-0661-47be-ddbf-a7256fd838f4"
      },
      "source": [
        "plt.figure(figsize=(16, 10))\n",
        "sns.lineplot(data = df_combine, x = 'Bulan', y = 'Internasional', marker = 'o')\n",
        "plt.title('Jumlah Penumpang Internasional di Bandara Soekarno-Hatta')\n",
        "plt.show()"
      ],
      "execution_count": null,
      "outputs": [
        {
          "output_type": "display_data",
          "data": {
            "image/png": "[encoded data removed]",
            "text/plain": [
              "<Figure size 1152x720 with 1 Axes>"
            ]
          },
          "metadata": {
            "needs_background": "light"
          }
        }
      ]
    },
    {
      "cell_type": "code",
      "metadata": {
        "id": "oqA2Di9MM7Oe"
      },
      "source": [
        "covid = pd.read_excel('/content/Daily Update Data Agregat Covid-19 Jakarta.xlsx')"
      ],
      "execution_count": null,
      "outputs": []
    },
    {
      "cell_type": "code",
      "metadata": {
        "colab": {
          "base_uri": "https://localhost:8080/",
          "height": 614
        },
        "id": "ZydulDLVNB3g",
        "outputId": "508c1fe3-5917-4f1f-dcb0-0a711c46efb2"
      },
      "source": [
        "covid = covid.loc[:, ['Tanggal', 'Positif Harian']]\n",
        "covid['Tanggal'] = pd.to_datetime(covid['Tanggal'], format= \"%y-%m-%d\")\n",
        "covid['Bulan'] = covid['Tanggal'].dt.month\n",
        "covid['Tahun'] = covid['Tanggal'].dt.year\n",
        "\n",
        "covid = covid.groupby(['Tahun', 'Bulan'], as_index = False).agg({'Positif Harian' : 'sum'})\n",
        "\n",
        "covid['Tanggal'] = covid['Bulan'].astype(str)+ '-' +covid['Tahun'].astype(str)\n",
        "covid['Tanggal'] = pd.to_datetime(covid['Tanggal'])\n",
        "\n",
        "covid = covid[0:18] # Ambil data sampai agustus 2021\n",
        "covid"
      ],
      "execution_count": null,
      "outputs": [
        {
          "output_type": "execute_result",
          "data": {
            "text/html": [
              "<div>\n",
              "<style scoped>\n",
              "    .dataframe tbody tr th:only-of-type {\n",
              "        vertical-align: middle;\n",
              "    }\n",
              "\n",
              "    .dataframe tbody tr th {\n",
              "        vertical-align: top;\n",
              "    }\n",
              "\n",
              "    .dataframe thead th {\n",
              "        text-align: right;\n",
              "    }\n",
              "</style>\n",
              "<table border=\"1\" class=\"dataframe\">\n",
              "  <thead>\n",
              "    <tr style=\"text-align: right;\">\n",
              "      <th></th>\n",
              "      <th>Tahun</th>\n",
              "      <th>Bulan</th>\n",
              "      <th>Positif Harian</th>\n",
              "      <th>Tanggal</th>\n",
              "    </tr>\n",
              "  </thead>\n",
              "  <tbody>\n",
              "    <tr>\n",
              "      <th>0</th>\n",
              "      <td>2020</td>\n",
              "      <td>3</td>\n",
              "      <td>741</td>\n",
              "      <td>2020-03-01</td>\n",
              "    </tr>\n",
              "    <tr>\n",
              "      <th>1</th>\n",
              "      <td>2020</td>\n",
              "      <td>4</td>\n",
              "      <td>3397</td>\n",
              "      <td>2020-04-01</td>\n",
              "    </tr>\n",
              "    <tr>\n",
              "      <th>2</th>\n",
              "      <td>2020</td>\n",
              "      <td>5</td>\n",
              "      <td>3134</td>\n",
              "      <td>2020-05-01</td>\n",
              "    </tr>\n",
              "    <tr>\n",
              "      <th>3</th>\n",
              "      <td>2020</td>\n",
              "      <td>6</td>\n",
              "      <td>4004</td>\n",
              "      <td>2020-06-01</td>\n",
              "    </tr>\n",
              "    <tr>\n",
              "      <th>4</th>\n",
              "      <td>2020</td>\n",
              "      <td>7</td>\n",
              "      <td>9925</td>\n",
              "      <td>2020-07-01</td>\n",
              "    </tr>\n",
              "    <tr>\n",
              "      <th>5</th>\n",
              "      <td>2020</td>\n",
              "      <td>8</td>\n",
              "      <td>19108</td>\n",
              "      <td>2020-08-01</td>\n",
              "    </tr>\n",
              "    <tr>\n",
              "      <th>6</th>\n",
              "      <td>2020</td>\n",
              "      <td>9</td>\n",
              "      <td>34059</td>\n",
              "      <td>2020-09-01</td>\n",
              "    </tr>\n",
              "    <tr>\n",
              "      <th>7</th>\n",
              "      <td>2020</td>\n",
              "      <td>10</td>\n",
              "      <td>31229</td>\n",
              "      <td>2020-10-01</td>\n",
              "    </tr>\n",
              "    <tr>\n",
              "      <th>8</th>\n",
              "      <td>2020</td>\n",
              "      <td>11</td>\n",
              "      <td>31264</td>\n",
              "      <td>2020-11-01</td>\n",
              "    </tr>\n",
              "    <tr>\n",
              "      <th>9</th>\n",
              "      <td>2020</td>\n",
              "      <td>12</td>\n",
              "      <td>46874</td>\n",
              "      <td>2020-12-01</td>\n",
              "    </tr>\n",
              "    <tr>\n",
              "      <th>10</th>\n",
              "      <td>2021</td>\n",
              "      <td>1</td>\n",
              "      <td>85983</td>\n",
              "      <td>2021-01-01</td>\n",
              "    </tr>\n",
              "    <tr>\n",
              "      <th>11</th>\n",
              "      <td>2021</td>\n",
              "      <td>2</td>\n",
              "      <td>70017</td>\n",
              "      <td>2021-02-01</td>\n",
              "    </tr>\n",
              "    <tr>\n",
              "      <th>12</th>\n",
              "      <td>2021</td>\n",
              "      <td>3</td>\n",
              "      <td>42320</td>\n",
              "      <td>2021-03-01</td>\n",
              "    </tr>\n",
              "    <tr>\n",
              "      <th>13</th>\n",
              "      <td>2021</td>\n",
              "      <td>4</td>\n",
              "      <td>26565</td>\n",
              "      <td>2021-04-01</td>\n",
              "    </tr>\n",
              "    <tr>\n",
              "      <th>14</th>\n",
              "      <td>2021</td>\n",
              "      <td>5</td>\n",
              "      <td>21439</td>\n",
              "      <td>2021-05-01</td>\n",
              "    </tr>\n",
              "    <tr>\n",
              "      <th>15</th>\n",
              "      <td>2021</td>\n",
              "      <td>6</td>\n",
              "      <td>113409</td>\n",
              "      <td>2021-06-01</td>\n",
              "    </tr>\n",
              "    <tr>\n",
              "      <th>16</th>\n",
              "      <td>2021</td>\n",
              "      <td>7</td>\n",
              "      <td>271185</td>\n",
              "      <td>2021-07-01</td>\n",
              "    </tr>\n",
              "    <tr>\n",
              "      <th>17</th>\n",
              "      <td>2021</td>\n",
              "      <td>8</td>\n",
              "      <td>35930</td>\n",
              "      <td>2021-08-01</td>\n",
              "    </tr>\n",
              "  </tbody>\n",
              "</table>\n",
              "</div>"
            ],
            "text/plain": [
              "    Tahun  Bulan  Positif Harian    Tanggal\n",
              "0    2020      3             741 2020-03-01\n",
              "1    2020      4            3397 2020-04-01\n",
              "2    2020      5            3134 2020-05-01\n",
              "3    2020      6            4004 2020-06-01\n",
              "4    2020      7            9925 2020-07-01\n",
              "5    2020      8           19108 2020-08-01\n",
              "6    2020      9           34059 2020-09-01\n",
              "7    2020     10           31229 2020-10-01\n",
              "8    2020     11           31264 2020-11-01\n",
              "9    2020     12           46874 2020-12-01\n",
              "10   2021      1           85983 2021-01-01\n",
              "11   2021      2           70017 2021-02-01\n",
              "12   2021      3           42320 2021-03-01\n",
              "13   2021      4           26565 2021-04-01\n",
              "14   2021      5           21439 2021-05-01\n",
              "15   2021      6          113409 2021-06-01\n",
              "16   2021      7          271185 2021-07-01\n",
              "17   2021      8           35930 2021-08-01"
            ]
          },
          "metadata": {},
          "execution_count": 58
        }
      ]
    },
    {
      "cell_type": "code",
      "metadata": {
        "colab": {
          "base_uri": "https://localhost:8080/",
          "height": 621
        },
        "id": "NbMT2rmamTNB",
        "outputId": "3bb72279-135f-4fed-859d-cb594785cd8c"
      },
      "source": [
        "plt.figure(figsize=(16, 10))\n",
        "sns.lineplot(data = covid, x = 'Tanggal', y = 'Positif Harian', marker = 'o')\n",
        "plt.title('Jumlah Kasus Harian Covid-19 di DKI Jakarta')\n",
        "plt.show()"
      ],
      "execution_count": null,
      "outputs": [
        {
          "output_type": "display_data",
          "data": {
            "image/png": "[encoded data removed]",
            "text/plain": [
              "<Figure size 1152x720 with 1 Axes>"
            ]
          },
          "metadata": {
            "needs_background": "light"
          }
        }
      ]
    },
    {
      "cell_type": "code",
      "metadata": {
        "id": "4dFFf5MBmyxE"
      },
      "source": [
        "covid.to_csv('covid19Jakarta.csv', )\n",
        "df_combine.to_csv('jumlah_penerbangan.csv', )"
      ],
      "execution_count": null,
      "outputs": []
    },
    {
      "cell_type": "code",
      "metadata": {
        "id": "YLcbXjaGnOxV",
        "colab": {
          "base_uri": "https://localhost:8080/",
          "height": 17
        },
        "outputId": "be8f746c-8c09-4511-a07f-c92225254e8e"
      },
      "source": [
        "from google.colab import files\n",
        "files.download('jumlah_penerbangan.csv')"
      ],
      "execution_count": null,
      "outputs": [
        {
          "output_type": "display_data",
          "data": {
            "application/javascript": [
              "\n",
              "    async function download(id, filename, size) {\n",
              "      if (!google.colab.kernel.accessAllowed) {\n",
              "        return;\n",
              "      }\n",
              "      const div = document.createElement('div');\n",
              "      const label = document.createElement('label');\n",
              "      label.textContent = `Downloading \"${filename}\": `;\n",
              "      div.appendChild(label);\n",
              "      const progress = document.createElement('progress');\n",
              "      progress.max = size;\n",
              "      div.appendChild(progress);\n",
              "      document.body.appendChild(div);\n",
              "\n",
              "      const buffers = [];\n",
              "      let downloaded = 0;\n",
              "\n",
              "      const channel = await google.colab.kernel.comms.open(id);\n",
              "      // Send a message to notify the kernel that we're ready.\n",
              "      channel.send({})\n",
              "\n",
              "      for await (const message of channel.messages) {\n",
              "        // Send a message to notify the kernel that we're ready.\n",
              "        channel.send({})\n",
              "        if (message.buffers) {\n",
              "          for (const buffer of message.buffers) {\n",
              "            buffers.push(buffer);\n",
              "            downloaded += buffer.byteLength;\n",
              "            progress.value = downloaded;\n",
              "          }\n",
              "        }\n",
              "      }\n",
              "      const blob = new Blob(buffers, {type: 'application/binary'});\n",
              "      const a = document.createElement('a');\n",
              "      a.href = window.URL.createObjectURL(blob);\n",
              "      a.download = filename;\n",
              "      div.appendChild(a);\n",
              "      a.click();\n",
              "      div.remove();\n",
              "    }\n",
              "  "
            ],
            "text/plain": [
              "<IPython.core.display.Javascript object>"
            ]
          },
          "metadata": {}
        },
        {
          "output_type": "display_data",
          "data": {
            "application/javascript": [
              "download(\"download_503fb868-dc36-4d35-9191-013c80ac2d75\", \"jumlah_penerbangan.csv\", 760)"
            ],
            "text/plain": [
              "<IPython.core.display.Javascript object>"
            ]
          },
          "metadata": {}
        }
      ]
    }
  ]
}