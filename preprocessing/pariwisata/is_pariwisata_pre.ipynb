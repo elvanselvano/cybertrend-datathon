{
  "nbformat": 4,
  "nbformat_minor": 0,
  "metadata": {
    "colab": {
      "name": "is_pariwisata_pre.ipynb",
      "provenance": [],
      "collapsed_sections": []
    },
    "kernelspec": {
      "name": "python3",
      "display_name": "Python 3"
    },
    "language_info": {
      "name": "python"
    }
  },
  "cells": [
    {
      "cell_type": "code",
      "metadata": {
        "id": "O6EHWfkJL6Lh"
      },
      "source": [
        "import pandas as pd\n",
        "import os, re"
      ],
      "execution_count": 40,
      "outputs": []
    },
    {
      "cell_type": "code",
      "metadata": {
        "id": "fM1XcWu-PTzC"
      },
      "source": [
        "paths = [i for i in os.listdir('.') if re.match('.*\\.xlsx', i) is not None]\n",
        "years = [re.findall('\\d+', i)[0] for i in paths]\n",
        "paths_years = zip(paths, years)"
      ],
      "execution_count": 57,
      "outputs": []
    },
    {
      "cell_type": "code",
      "metadata": {
        "id": "MbGVScICMF7P"
      },
      "source": [
        "def process(path, year):\n",
        "  df = pd.read_excel(path, skiprows=2)\n",
        "  df = df.dropna()\n",
        "  df['Tahunan'] = df.mean(axis=1, skipna=True, numeric_only=True)\n",
        "  col = df.columns.to_list()\n",
        "  col[0] = 'Is_Pariwisata'\n",
        "  col[-1] = str(year)\n",
        "  df.columns = col\n",
        "  df = df[['Is_Pariwisata', str(year)]]\n",
        "  df = df.T\n",
        "  df = df.reset_index()\n",
        "  cols = df.iloc[0].copy()\n",
        "  cols['index'] = 'Tahun'\n",
        "  df = df.iloc[1:].copy()\n",
        "  df.columns = cols\n",
        "  return df"
      ],
      "execution_count": 58,
      "outputs": []
    },
    {
      "cell_type": "code",
      "metadata": {
        "id": "hrY5Agw4Mb2U"
      },
      "source": [
        "dfs = [process(i, j) for i, j in paths_years]"
      ],
      "execution_count": 59,
      "outputs": []
    },
    {
      "cell_type": "code",
      "metadata": {
        "id": "l4Vs2ekFMh1w"
      },
      "source": [
        "df = pd.concat(dfs)"
      ],
      "execution_count": 60,
      "outputs": []
    },
    {
      "cell_type": "code",
      "metadata": {
        "colab": {
          "base_uri": "https://localhost:8080/",
          "height": 235
        },
        "id": "i9MQqTzsQXD7",
        "outputId": "1dd91bec-d59b-4837-9e83-215df18445c9"
      },
      "source": [
        "col = df.columns.to_list()\n",
        "col[-1] = col[-1] + '_mean'\n",
        "col[-2] = col[-2] + '_mean'\n",
        "df.columns = col\n",
        "df"
      ],
      "execution_count": 61,
      "outputs": [
        {
          "output_type": "execute_result",
          "data": {
            "text/html": [
              "<div>\n",
              "<style scoped>\n",
              "    .dataframe tbody tr th:only-of-type {\n",
              "        vertical-align: middle;\n",
              "    }\n",
              "\n",
              "    .dataframe tbody tr th {\n",
              "        vertical-align: top;\n",
              "    }\n",
              "\n",
              "    .dataframe thead th {\n",
              "        text-align: right;\n",
              "    }\n",
              "</style>\n",
              "<table border=\"1\" class=\"dataframe\">\n",
              "  <thead>\n",
              "    <tr style=\"text-align: right;\">\n",
              "      <th></th>\n",
              "      <th>Tahun</th>\n",
              "      <th>Kunjungan Wisatawan Mancanegara_mean</th>\n",
              "      <th>Tingkat Penghunian Kamar Hotel Berbintang_mean</th>\n",
              "    </tr>\n",
              "  </thead>\n",
              "  <tbody>\n",
              "    <tr>\n",
              "      <th>1</th>\n",
              "      <td>2020</td>\n",
              "      <td>36968.2</td>\n",
              "      <td>38.7283</td>\n",
              "    </tr>\n",
              "    <tr>\n",
              "      <th>1</th>\n",
              "      <td>2019</td>\n",
              "      <td>202763</td>\n",
              "      <td>60.515</td>\n",
              "    </tr>\n",
              "    <tr>\n",
              "      <th>1</th>\n",
              "      <td>2016</td>\n",
              "      <td>209334</td>\n",
              "      <td>58.2908</td>\n",
              "    </tr>\n",
              "    <tr>\n",
              "      <th>1</th>\n",
              "      <td>2017</td>\n",
              "      <td>221505</td>\n",
              "      <td>63.2567</td>\n",
              "    </tr>\n",
              "    <tr>\n",
              "      <th>1</th>\n",
              "      <td>2018</td>\n",
              "      <td>234330</td>\n",
              "      <td>66.8683</td>\n",
              "    </tr>\n",
              "    <tr>\n",
              "      <th>1</th>\n",
              "      <td>2021</td>\n",
              "      <td>8219.75</td>\n",
              "      <td>43.3412</td>\n",
              "    </tr>\n",
              "  </tbody>\n",
              "</table>\n",
              "</div>"
            ],
            "text/plain": [
              "  Tahun  ... Tingkat Penghunian Kamar Hotel Berbintang_mean\n",
              "1  2020  ...                                        38.7283\n",
              "1  2019  ...                                         60.515\n",
              "1  2016  ...                                        58.2908\n",
              "1  2017  ...                                        63.2567\n",
              "1  2018  ...                                        66.8683\n",
              "1  2021  ...                                        43.3412\n",
              "\n",
              "[6 rows x 3 columns]"
            ]
          },
          "metadata": {},
          "execution_count": 61
        }
      ]
    },
    {
      "cell_type": "code",
      "metadata": {
        "id": "GP8aKtZfQqKv"
      },
      "source": [
        "df.to_csv('is_pariwisata_aggregated.csv', index=False)"
      ],
      "execution_count": 62,
      "outputs": []
    },
    {
      "cell_type": "code",
      "metadata": {
        "id": "iRd2PjoEQ6eG"
      },
      "source": [
        ""
      ],
      "execution_count": null,
      "outputs": []
    }
  ]
}