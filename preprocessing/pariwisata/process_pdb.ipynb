{
  "nbformat": 4,
  "nbformat_minor": 0,
  "metadata": {
    "colab": {
      "name": "process pdb.ipynb",
      "provenance": [],
      "collapsed_sections": []
    },
    "kernelspec": {
      "name": "python3",
      "display_name": "Python 3"
    },
    "language_info": {
      "name": "python"
    }
  },
  "cells": [
    {
      "cell_type": "code",
      "metadata": {
        "id": "jHmbQ-0suFyZ"
      },
      "source": [
        "import pandas as pd\n",
        "import re"
      ],
      "execution_count": 5,
      "outputs": []
    },
    {
      "cell_type": "code",
      "metadata": {
        "id": "vNpi_5ixxgLY"
      },
      "source": [
        "PATH = '/content/Proporsi Kontribusi Pariwisata Terhadap PDB.xlsx'"
      ],
      "execution_count": 6,
      "outputs": []
    },
    {
      "cell_type": "code",
      "metadata": {
        "id": "G7Op3Z-xvb98"
      },
      "source": [
        "def process(path):\n",
        "  df = pd.read_excel(path, skiprows=1)\n",
        "  df.dropna(inplace=True)\n",
        "  df = df.iloc[:,1:]\n",
        "  df = df.T\n",
        "  df = df.reset_index()\n",
        "  df.columns = ['Tahun', 'Persen']\n",
        "  return df"
      ],
      "execution_count": 7,
      "outputs": []
    },
    {
      "cell_type": "code",
      "metadata": {
        "id": "nrIMk94Bxn-k"
      },
      "source": [
        "df = process(PATH)\n",
        "df = df.set_index('Tahun')"
      ],
      "execution_count": 8,
      "outputs": []
    },
    {
      "cell_type": "markdown",
      "metadata": {
        "id": "Vk3JRSgOyWcf"
      },
      "source": [
        "https://www.cnnindonesia.com/ekonomi/20200226121314-532-478265/menghitung-kontribusi-sektor-pariwisata-bagi-ekonomi-ri\n",
        "\n",
        "https://katadata.co.id/doddyrosadi/berita/6058264566a4b/menparekraf-kontribusi-pariwisata-ditargetkan-12-persen-dari-pdb\n",
        "\n",
        "https://s3-kemenparekraf.s3.ap-southeast-1.amazonaws.com/LAKIN_Kemenparekraf_2020_UPDATE_UPLOAD_20082021_da6e5232c6.pdf"
      ]
    },
    {
      "cell_type": "code",
      "metadata": {
        "id": "MqHZwT3BxqFT"
      },
      "source": [
        "df.loc[2018] = 5.25\n",
        "df.loc[2019] = 4.7\n",
        "df.loc[2020] = 4"
      ],
      "execution_count": 9,
      "outputs": []
    },
    {
      "cell_type": "code",
      "metadata": {
        "colab": {
          "base_uri": "https://localhost:8080/",
          "height": 266
        },
        "id": "r2wPmNx5yUmE",
        "outputId": "c1fd1ab8-0055-443c-c93a-d92853c5d395"
      },
      "source": [
        "df"
      ],
      "execution_count": 10,
      "outputs": [
        {
          "output_type": "execute_result",
          "data": {
            "text/html": [
              "<div>\n",
              "<style scoped>\n",
              "    .dataframe tbody tr th:only-of-type {\n",
              "        vertical-align: middle;\n",
              "    }\n",
              "\n",
              "    .dataframe tbody tr th {\n",
              "        vertical-align: top;\n",
              "    }\n",
              "\n",
              "    .dataframe thead th {\n",
              "        text-align: right;\n",
              "    }\n",
              "</style>\n",
              "<table border=\"1\" class=\"dataframe\">\n",
              "  <thead>\n",
              "    <tr style=\"text-align: right;\">\n",
              "      <th></th>\n",
              "      <th>Persen</th>\n",
              "    </tr>\n",
              "    <tr>\n",
              "      <th>Tahun</th>\n",
              "      <th></th>\n",
              "    </tr>\n",
              "  </thead>\n",
              "  <tbody>\n",
              "    <tr>\n",
              "      <th>2015</th>\n",
              "      <td>4.25</td>\n",
              "    </tr>\n",
              "    <tr>\n",
              "      <th>2016</th>\n",
              "      <td>4.13</td>\n",
              "    </tr>\n",
              "    <tr>\n",
              "      <th>2017</th>\n",
              "      <td>4.11</td>\n",
              "    </tr>\n",
              "    <tr>\n",
              "      <th>2018</th>\n",
              "      <td>5.25</td>\n",
              "    </tr>\n",
              "    <tr>\n",
              "      <th>2019</th>\n",
              "      <td>4.70</td>\n",
              "    </tr>\n",
              "    <tr>\n",
              "      <th>2020</th>\n",
              "      <td>4.00</td>\n",
              "    </tr>\n",
              "  </tbody>\n",
              "</table>\n",
              "</div>"
            ],
            "text/plain": [
              "       Persen\n",
              "Tahun        \n",
              "2015     4.25\n",
              "2016     4.13\n",
              "2017     4.11\n",
              "2018     5.25\n",
              "2019     4.70\n",
              "2020     4.00"
            ]
          },
          "metadata": {},
          "execution_count": 10
        }
      ]
    },
    {
      "cell_type": "code",
      "metadata": {
        "id": "-si4Ya5iyVYm"
      },
      "source": [
        "df.to_csv('pdb_kontribusi_wisata.csv')"
      ],
      "execution_count": 11,
      "outputs": []
    }
  ]
}