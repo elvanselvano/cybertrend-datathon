{
  "nbformat": 4,
  "nbformat_minor": 0,
  "metadata": {
    "colab": {
      "name": "keberangkatan melalui airport preprocess.ipynb",
      "provenance": [],
      "collapsed_sections": []
    },
    "kernelspec": {
      "name": "python3",
      "display_name": "Python 3"
    },
    "language_info": {
      "name": "python"
    }
  },
  "cells": [
    {
      "cell_type": "code",
      "metadata": {
        "id": "tnfvtlfzGNfl"
      },
      "source": [
        "# library pandas digunakan untuk memngekstrak dataframe dan mengubah spreadsheet menjadi format yang mudah diolah komputer\n",
        "import pandas as pd\n",
        "# numpy digunakan untuk menghitung sum dari semua angka\n",
        "import numpy as np\n",
        "# os digunaka untuk mengambil nama-nama file yang akan digunakan\n",
        "# re digunakan untuk mengekstrak tahun dari nama file\n",
        "import os, re"
      ],
      "execution_count": null,
      "outputs": []
    },
    {
      "cell_type": "code",
      "metadata": {
        "id": "GvJyzGbAGQTE"
      },
      "source": [
        "# pada bagian ini file yang akan dipreprocess dipilih\n",
        "files = [i for i in os.listdir('.') if i.endswith('xlsx')]"
      ],
      "execution_count": null,
      "outputs": []
    },
    {
      "cell_type": "code",
      "metadata": {
        "id": "sXMpJTLLPdJd"
      },
      "source": [
        "# fungsi ini digunakan untuk mengubah suatu row menjadi nama column\n",
        "\"\"\"\n",
        "df adalah dataframe yang akan digunakan ditransformasi\n",
        "row adalah lokasi row yang akan menjadi nama column\n",
        "fillna adalah text yang akan digunakan untuk mengisi na pada column yang akan dibersihkan\n",
        "\"\"\"\n",
        "def replaceColumnLabel(df, row = 0, fillna = ''):\n",
        "  col = df.iloc[row].fillna(fillna)\n",
        "  df = df.iloc[row+1:]\n",
        "  df.columns = col\n",
        "  return df"
      ],
      "execution_count": null,
      "outputs": []
    },
    {
      "cell_type": "code",
      "metadata": {
        "id": "qs5MHkqKGvvf"
      },
      "source": [
        "\"\"\"\n",
        "process adalah function yang akan digunakan untuk mengubah data menjadi format yang lebih mudah dibaca\n",
        "\"\"\"\n",
        "def process(path):\n",
        "  # pada line ini tahun dalam judul file akan diekstrak\n",
        "  year = re.findall('\\d+', path)[0]\n",
        "\n",
        "  # kita membuat sebuah dataframe dari sebuah excel, pada file excel terdapat header sehingga perlu di skip row\n",
        "  df = pd.read_excel(path, skiprows=1)\n",
        "\n",
        "\n",
        "  # pada bagian ini data international dan national diprocess\n",
        "  # pada kita extract semua data penerbangan international\n",
        "  international = df.loc[:,'Keberangkatan pada Penerbangan Internasional':]\n",
        "  # kita ubah nama column dan hilangkan semua row na\n",
        "  international = replaceColumnLabel(international, row=1, fillna='airport').dropna()\n",
        "  # dataframe kita ubah menjadi array 1 dimensi agar sum dari semua penerbangan dapat didapatkan\n",
        "  international = np.ravel(international)\n",
        "  # delete semua value string berupa '-'\n",
        "  international = np.delete(international, np.where(international == '-'))\n",
        "  # ubah tipe data menjadi int (hal ini dilakukan karena array memiliki bentuk data object) dan lakukan sum\n",
        "  international_sum = np.sum(international.astype(int))\n",
        "\n",
        "  # pada kita extract semua data penerbangan national\n",
        "  national = df.loc[:, 'Keberangkatan pada Penerbangan Domestik':'Keberangkatan pada Penerbangan Internasional'].drop('Keberangkatan pada Penerbangan Internasional', axis=1)\n",
        "  # kita ubah nama column dan hilangkan semua row na\n",
        "  national = replaceColumnLabel(national, row=1, fillna='airport').dropna()\n",
        "  # dataframe kita ubah menjadi array 1 dimensi agar sum dari semua penerbangan dapat didapatkan\n",
        "  national = np.ravel(national)\n",
        "  # delete semua value string berupa '-'\n",
        "  national = np.delete(national, np.where(national == '-'))\n",
        "  # ubah tipe data menjadi int (hal ini dilakukan karena array memiliki bentuk data object) dan lakukan sum\n",
        "  national_sum = np.sum(national.astype(int))\n",
        "\n",
        "  # gabungkan total sum international dan national dan beri label nasional maupun internasional\n",
        "  # data diubah menjadi dataframe agar mudah digabungkan dengan data dari spreadsheet lain\n",
        "  res_df = pd.DataFrame({'tahun': [year, year], 'Jumlah': [national_sum, international_sum], 'penerbangan':['nasional', 'internasional']})\n",
        "  \n",
        "  # kembalikan hasil dari preprocess\n",
        "  return res_df"
      ],
      "execution_count": null,
      "outputs": []
    },
    {
      "cell_type": "code",
      "metadata": {
        "id": "nge5dZYuI8l-"
      },
      "source": [
        "# process semua file spreadsheet dan masukkan ke dalam sebuah list\n",
        "dfs = [process(i) for i in files]"
      ],
      "execution_count": null,
      "outputs": []
    },
    {
      "cell_type": "code",
      "metadata": {
        "colab": {
          "base_uri": "https://localhost:8080/",
          "height": 235
        },
        "id": "Gt3kel87JAZI",
        "outputId": "6cc5da69-3650-4e76-8263-86b88ad62618"
      },
      "source": [
        "# concatenate semua dataframe yang telah diproses menjadi 1 dataframe\n",
        "df = pd.concat(dfs).sort_values('tahun')\n",
        "\n",
        "# print dataframe untuk memastikan format sudah benar\n",
        "df"
      ],
      "execution_count": null,
      "outputs": [
        {
          "output_type": "execute_result",
          "data": {
            "text/html": [
              "<div>\n",
              "<style scoped>\n",
              "    .dataframe tbody tr th:only-of-type {\n",
              "        vertical-align: middle;\n",
              "    }\n",
              "\n",
              "    .dataframe tbody tr th {\n",
              "        vertical-align: top;\n",
              "    }\n",
              "\n",
              "    .dataframe thead th {\n",
              "        text-align: right;\n",
              "    }\n",
              "</style>\n",
              "<table border=\"1\" class=\"dataframe\">\n",
              "  <thead>\n",
              "    <tr style=\"text-align: right;\">\n",
              "      <th></th>\n",
              "      <th>tahun</th>\n",
              "      <th>Jumlah</th>\n",
              "      <th>penerbangan</th>\n",
              "    </tr>\n",
              "  </thead>\n",
              "  <tbody>\n",
              "    <tr>\n",
              "      <th>0</th>\n",
              "      <td>2019</td>\n",
              "      <td>36494088</td>\n",
              "      <td>nasional</td>\n",
              "    </tr>\n",
              "    <tr>\n",
              "      <th>1</th>\n",
              "      <td>2019</td>\n",
              "      <td>17108874</td>\n",
              "      <td>internasional</td>\n",
              "    </tr>\n",
              "    <tr>\n",
              "      <th>0</th>\n",
              "      <td>2020</td>\n",
              "      <td>32511290</td>\n",
              "      <td>nasional</td>\n",
              "    </tr>\n",
              "    <tr>\n",
              "      <th>1</th>\n",
              "      <td>2020</td>\n",
              "      <td>6520358</td>\n",
              "      <td>internasional</td>\n",
              "    </tr>\n",
              "    <tr>\n",
              "      <th>0</th>\n",
              "      <td>2021</td>\n",
              "      <td>8759617</td>\n",
              "      <td>nasional</td>\n",
              "    </tr>\n",
              "    <tr>\n",
              "      <th>1</th>\n",
              "      <td>2021</td>\n",
              "      <td>356016</td>\n",
              "      <td>internasional</td>\n",
              "    </tr>\n",
              "  </tbody>\n",
              "</table>\n",
              "</div>"
            ],
            "text/plain": [
              "  tahun    Jumlah    penerbangan\n",
              "0  2019  36494088       nasional\n",
              "1  2019  17108874  internasional\n",
              "0  2020  32511290       nasional\n",
              "1  2020   6520358  internasional\n",
              "0  2021   8759617       nasional\n",
              "1  2021    356016  internasional"
            ]
          },
          "metadata": {},
          "execution_count": 17
        }
      ]
    },
    {
      "cell_type": "code",
      "metadata": {
        "id": "n8rwq9OOdhHc"
      },
      "source": [
        "# simpan data ke dalam bentuk csv, index false agar csv tidak menyimpan index dari dataframe tersebut\n",
        "df.to_csv('total keberangkatan melalui airport 2019-2020.csv', index=False)"
      ],
      "execution_count": null,
      "outputs": []
    }
  ]
}