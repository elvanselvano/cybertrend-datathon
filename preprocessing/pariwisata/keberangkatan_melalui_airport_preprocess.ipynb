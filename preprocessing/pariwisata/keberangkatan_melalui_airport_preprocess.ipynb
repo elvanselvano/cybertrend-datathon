{
  "nbformat": 4,
  "nbformat_minor": 0,
  "metadata": {
    "colab": {
      "name": "keberangkatan melalui airport preprocess.ipynb",
      "provenance": [],
      "collapsed_sections": []
    },
    "kernelspec": {
      "name": "python3",
      "display_name": "Python 3"
    },
    "language_info": {
      "name": "python"
    }
  },
  "cells": [
    {
      "cell_type": "code",
      "metadata": {
        "id": "tnfvtlfzGNfl"
      },
      "source": [
        "import pandas as pd\n",
        "import numpy as np\n",
        "import os"
      ],
      "execution_count": 71,
      "outputs": []
    },
    {
      "cell_type": "code",
      "metadata": {
        "id": "GvJyzGbAGQTE"
      },
      "source": [
        "files = [i for i in os.listdir('.') if i.endswith('xlsx')]"
      ],
      "execution_count": 7,
      "outputs": []
    },
    {
      "cell_type": "code",
      "metadata": {
        "id": "sXMpJTLLPdJd"
      },
      "source": [
        "def replaceColumnLabel(df, row = 0, fillna = ''):\n",
        "  col = df.iloc[row].fillna(fillna)\n",
        "  df = df.iloc[row+1:]\n",
        "  df.columns = col\n",
        "  return df"
      ],
      "execution_count": 61,
      "outputs": []
    },
    {
      "cell_type": "code",
      "metadata": {
        "id": "qs5MHkqKGvvf"
      },
      "source": [
        "def process(path):\n",
        "  year = re.findall('\\d+', path)\n",
        "  df = pd.read_excel(path, skiprows=1)\n",
        "  international = df.loc[:,'Keberangkatan pada Penerbangan Internasional':]\n",
        "  international = replaceColumnLabel(international, row=1, fillna='airport').dropna()\n",
        "  international = np.ravel(international)\n",
        "  international = np.delete(international, np.where(international == '-'))\n",
        "  international_sum = np.sum(international.astype(int))\n",
        "  national = df.loc[:, 'Keberangkatan pada Penerbangan Domestik':'Keberangkatan pada Penerbangan Internasional'].drop('Keberangkatan pada Penerbangan Internasional', axis=1)\n",
        "  national = replaceColumnLabel(national, row=1, fillna='airport').dropna()\n",
        "  national = np.ravel(national)\n",
        "  national = np.delete(national, np.where(national == '-'))\n",
        "  national_sum = np.sum(national.astype(int))\n",
        "  res_df = pd.DataFrame({'tahun': year, 'nasional': national_sum, 'internasional':international_sum})\n",
        "  return res_df"
      ],
      "execution_count": 86,
      "outputs": []
    },
    {
      "cell_type": "code",
      "metadata": {
        "id": "nge5dZYuI8l-"
      },
      "source": [
        "dfs = [process(i) for i in files]"
      ],
      "execution_count": 89,
      "outputs": []
    },
    {
      "cell_type": "code",
      "metadata": {
        "colab": {
          "base_uri": "https://localhost:8080/",
          "height": 142
        },
        "id": "Gt3kel87JAZI",
        "outputId": "9f9d1a39-1d11-44c3-d484-6207e46d1217"
      },
      "source": [
        "df = pd.concat(dfs).sort_values('tahun')\n",
        "df"
      ],
      "execution_count": 92,
      "outputs": [
        {
          "output_type": "execute_result",
          "data": {
            "text/html": [
              "<div>\n",
              "<style scoped>\n",
              "    .dataframe tbody tr th:only-of-type {\n",
              "        vertical-align: middle;\n",
              "    }\n",
              "\n",
              "    .dataframe tbody tr th {\n",
              "        vertical-align: top;\n",
              "    }\n",
              "\n",
              "    .dataframe thead th {\n",
              "        text-align: right;\n",
              "    }\n",
              "</style>\n",
              "<table border=\"1\" class=\"dataframe\">\n",
              "  <thead>\n",
              "    <tr style=\"text-align: right;\">\n",
              "      <th></th>\n",
              "      <th>tahun</th>\n",
              "      <th>nasional</th>\n",
              "      <th>internasional</th>\n",
              "    </tr>\n",
              "  </thead>\n",
              "  <tbody>\n",
              "    <tr>\n",
              "      <th>0</th>\n",
              "      <td>2019</td>\n",
              "      <td>36494088</td>\n",
              "      <td>17108874</td>\n",
              "    </tr>\n",
              "    <tr>\n",
              "      <th>0</th>\n",
              "      <td>2020</td>\n",
              "      <td>32511290</td>\n",
              "      <td>6520358</td>\n",
              "    </tr>\n",
              "    <tr>\n",
              "      <th>0</th>\n",
              "      <td>2021</td>\n",
              "      <td>8759617</td>\n",
              "      <td>356016</td>\n",
              "    </tr>\n",
              "  </tbody>\n",
              "</table>\n",
              "</div>"
            ],
            "text/plain": [
              "  tahun  nasional  internasional\n",
              "0  2019  36494088       17108874\n",
              "0  2020  32511290        6520358\n",
              "0  2021   8759617         356016"
            ]
          },
          "metadata": {},
          "execution_count": 92
        }
      ]
    },
    {
      "cell_type": "code",
      "metadata": {
        "id": "n8rwq9OOdhHc"
      },
      "source": [
        "df.to_csv('total keberangkatan melalui airport 2019-2020.csv', index=False)"
      ],
      "execution_count": 93,
      "outputs": []
    },
    {
      "cell_type": "code",
      "metadata": {
        "id": "ymKI1oN3dv0d"
      },
      "source": [
        ""
      ],
      "execution_count": null,
      "outputs": []
    }
  ]
}